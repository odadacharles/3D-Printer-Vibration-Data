{
 "cells": [
  {
   "cell_type": "code",
   "execution_count": null,
   "id": "a405dabc",
   "metadata": {},
   "outputs": [],
   "source": [
    "import pyqtgraph as pg\n",
    "import numpy as np\n",
    "import sys\n",
    "from PyQt6 import QtWidgets, QtCore\n",
    "\n",
    "app = QtWidgets.QApplication(sys.argv)  # Create QApplication ***\n",
    "\n",
    "def main ():\n",
    "    x = np.random.normal(size=1000)\n",
    "    y = np.random.normal(size=1000)\n",
    "    pg.plot(x, y, pen=None, symbol='o')  ## setting pen=None disables line drawing\n",
    "\n",
    "if __name__ == '__main__':\n",
    "    if (sys.flags.interactive != 1) or not hasattr(QtCore, 'PYQT_VERSION'):\n",
    "        main()\n",
    "        app.exec()  # Start QApplication event loop ***"
   ]
  },
  {
   "cell_type": "code",
   "execution_count": null,
   "id": "7e5d9697",
   "metadata": {},
   "outputs": [],
   "source": [
    "app = QtGui.QApplication([])"
   ]
  },
  {
   "cell_type": "code",
   "execution_count": null,
   "id": "ac9ea7fe",
   "metadata": {},
   "outputs": [],
   "source": [
    "w=QtGui.QWidget()"
   ]
  },
  {
   "cell_type": "code",
   "execution_count": null,
   "id": "84afe7e1",
   "metadata": {},
   "outputs": [],
   "source": [
    "import pyqtgraph as pg\n",
    "import numpy as np\n",
    "x = np.random.normal(size=1000)\n",
    "y = np.random.normal(size=1000)\n",
    "pg.plot(x, y, pen=None, symbol='o')  ## setting pen=None disables line drawing"
   ]
  },
  {
   "cell_type": "code",
   "execution_count": null,
   "id": "cb0be293",
   "metadata": {},
   "outputs": [],
   "source": [
    "csv_file = open ('C:/Users/Charlie.O/Documents/Python Projects/3D Printer Vibration Data/Sensor_1.csv')\n",
    "csvreader = csv.reader(csv_file)"
   ]
  },
  {
   "cell_type": "code",
   "execution_count": null,
   "id": "8b372a2f",
   "metadata": {},
   "outputs": [],
   "source": [
    "win = pg.GraphicsLayoutWidget(show=True, title=\"Vibration Plot Test 1\")\n",
    "win.resize(1000,600)\n",
    "win.setWindowTitle('pyqtgraph example: Plotting')"
   ]
  },
  {
   "cell_type": "code",
   "execution_count": null,
   "id": "c9b66ebb",
   "metadata": {},
   "outputs": [],
   "source": [
    "pg.setConfigOptions(antialias=True)"
   ]
  },
  {
   "cell_type": "code",
   "execution_count": null,
   "id": "70e32b43",
   "metadata": {},
   "outputs": [],
   "source": [
    "time = []\n",
    "x_vibration = []\n",
    "next(csvreader)\n",
    "for row in csvreader:\n",
    "    print(row)\n",
    "    xval = float(row[0])\n",
    "    yval = float(row[2])\n",
    "    time.append(xval)\n",
    "    x_vibration.append(yval)"
   ]
  },
  {
   "cell_type": "code",
   "execution_count": null,
   "id": "fb4f5367",
   "metadata": {},
   "outputs": [],
   "source": [
    "import pyqtgraph as pg\n",
    "pg.plot(x_vibration)   # data can be a list of values or a numpy array"
   ]
  },
  {
   "cell_type": "code",
   "execution_count": null,
   "id": "469305e7",
   "metadata": {},
   "outputs": [],
   "source": [
    "p1 = pg.plot(time, x_vibration, pen='r')"
   ]
  },
  {
   "cell_type": "code",
   "execution_count": null,
   "id": "41c7edca",
   "metadata": {},
   "outputs": [],
   "source": [
    "from PyQt5 import QtGui  # (the example applies equally well to PySide2)\n",
    "import pyqtgraph as pg\n",
    "\n",
    "## Always start by initializing Qt (only once per application)\n",
    "app = QtGui.QApplication([])\n",
    "\n",
    "## Define a top-level widget to hold everything\n",
    "w = QtGui.QWidget()\n",
    "\n",
    "## Create some widgets to be placed inside\n",
    "btn = QtGui.QPushButton('press me')\n",
    "text = QtGui.QLineEdit('enter text')\n",
    "listw = QtGui.QListWidget()\n",
    "plot = pg.PlotWidget()\n",
    "\n",
    "## Create a grid layout to manage the widgets size and position\n",
    "layout = QtGui.QGridLayout()\n",
    "w.setLayout(layout)\n",
    "\n",
    "## Add widgets to the layout in their proper positions\n",
    "layout.addWidget(btn, 0, 0)   # button goes in upper-left\n",
    "layout.addWidget(text, 1, 0)   # text edit goes in middle-left\n",
    "layout.addWidget(listw, 2, 0)  # list widget goes in bottom-left\n",
    "layout.addWidget(plot, 0, 1, 3, 1)  # plot goes on right side, spanning 3 rows\n",
    "\n",
    "## Display the widget as a new window\n",
    "w.show()\n",
    "\n",
    "## Start the Qt event loop\n",
    "app.exec_()"
   ]
  },
  {
   "cell_type": "code",
   "execution_count": null,
   "id": "7dbd520c",
   "metadata": {},
   "outputs": [],
   "source": []
  }
 ],
 "metadata": {
  "kernelspec": {
   "display_name": "Python 3 (ipykernel)",
   "language": "python",
   "name": "python3"
  },
  "language_info": {
   "codemirror_mode": {
    "name": "ipython",
    "version": 3
   },
   "file_extension": ".py",
   "mimetype": "text/x-python",
   "name": "python",
   "nbconvert_exporter": "python",
   "pygments_lexer": "ipython3",
   "version": "3.8.12"
  }
 },
 "nbformat": 4,
 "nbformat_minor": 5
}
