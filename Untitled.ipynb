{
 "cells": [
  {
   "cell_type": "code",
   "execution_count": 2,
   "id": "40db3e6c",
   "metadata": {},
   "outputs": [],
   "source": [
    "import pyqtgraph.examples\n",
    "pyqtgraph.examples.run()"
   ]
  },
  {
   "cell_type": "code",
   "execution_count": null,
   "id": "62c0b13e",
   "metadata": {},
   "outputs": [],
   "source": [
    "from PyQt6 import QtGui, QtWidgets  # (the example applies equally well to PySide2)\n",
    "import pyqtgraph as pg\n",
    "\n",
    "## Always start by initializing Qt (only once per application)\n",
    "app = QtWidgets.QApplication([])\n",
    "\n",
    "## Define a top-level widget to hold everything\n",
    "w = QtWidgets.QWidget()\n",
    "\n",
    "## Create some widgets to be placed inside\n",
    "btn = QtWidgets.QPushButton('press me')\n",
    "text = QtWidgets.QLineEdit('enter text')\n",
    "listw = QtWidgets.QListWidget()\n",
    "plot = pg.PlotWidget()\n",
    "\n",
    "## Create a grid layout to manage the widgets size and position\n",
    "layout = QtWidgets.QGridLayout()\n",
    "w.setLayout(layout)\n",
    "\n",
    "## Add widgets to the layout in their proper positions\n",
    "layout.addWidget(btn, 0, 0)   # button goes in upper-left\n",
    "layout.addWidget(text, 1, 0)   # text edit goes in middle-left\n",
    "layout.addWidget(listw, 2, 0)  # list widget goes in bottom-left\n",
    "layout.addWidget(plot, 0, 1, 3, 1)  # plot goes on right side, spanning 3 rows\n",
    "\n",
    "## Display the widget as a new window\n",
    "w.show()\n",
    "\n",
    "## Start the Qt event loop\n",
    "app.exec()"
   ]
  },
  {
   "cell_type": "code",
   "execution_count": null,
   "id": "e0d6fe0b",
   "metadata": {},
   "outputs": [],
   "source": [
    "from PyQt6 import QtGui, QtWidgets  # (the example applies equally well to PySide2)\n",
    "import pyqtgraph as pg\n",
    "import numpy as np\n",
    "\n",
    "app = QtWidgets.QApplication([])\n",
    "x = np.arange(1000)\n",
    "y = np.random.normal(size=(3, 1000))\n",
    "plotWidget = pg.plot(title=\"Three plot curves\")\n",
    "for i in range(3):\n",
    "    plotWidget.plot(x, y[i], pen=(i,3))  ## setting pen=(i,3) automaticaly creates three different-colored pens\n",
    "    \n",
    "app.exec()"
   ]
  },
  {
   "cell_type": "code",
   "execution_count": null,
   "id": "a2d50959",
   "metadata": {},
   "outputs": [],
   "source": []
  }
 ],
 "metadata": {
  "kernelspec": {
   "display_name": "Python 3 (ipykernel)",
   "language": "python",
   "name": "python3"
  },
  "language_info": {
   "codemirror_mode": {
    "name": "ipython",
    "version": 3
   },
   "file_extension": ".py",
   "mimetype": "text/x-python",
   "name": "python",
   "nbconvert_exporter": "python",
   "pygments_lexer": "ipython3",
   "version": "3.8.12"
  }
 },
 "nbformat": 4,
 "nbformat_minor": 5
}
