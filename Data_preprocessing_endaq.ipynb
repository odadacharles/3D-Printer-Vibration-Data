{
 "cells": [
  {
   "cell_type": "code",
   "execution_count": 1,
   "id": "29e4c01b",
   "metadata": {},
   "outputs": [],
   "source": [
    "import pyqtgraph.examples\n",
    "pyqtgraph.examples.run()"
   ]
  },
  {
   "cell_type": "code",
   "execution_count": null,
   "id": "506c339a",
   "metadata": {},
   "outputs": [],
   "source": [
    "csv_file = open('C:/Users/Charlie.O/Documents/Python Projects/3D Printer Vibration Data/Sensor_1.csv') #Open the csv file where the bulk sensor data is stored\n",
    "csvreader = csv.reader(csv_file) #Read through the bulk csv file and store its contents in a variable called 'csvreader'\n",
    "csvreader"
   ]
  },
  {
   "cell_type": "code",
   "execution_count": null,
   "id": "2479e878",
   "metadata": {},
   "outputs": [],
   "source": [
    "data = {'Sensor 1':  'x'   'y'   'z'}\n",
    "data"
   ]
  },
  {
   "cell_type": "code",
   "execution_count": null,
   "id": "51399e40",
   "metadata": {},
   "outputs": [],
   "source": [
    "x_axis = []\n",
    "\n",
    "for row in csvreader:\n",
    "    x_axis.append(row[2])"
   ]
  },
  {
   "cell_type": "code",
   "execution_count": null,
   "id": "906e79c2",
   "metadata": {},
   "outputs": [],
   "source": []
  },
  {
   "cell_type": "code",
   "execution_count": null,
   "id": "70ebff15",
   "metadata": {},
   "outputs": [],
   "source": []
  }
 ],
 "metadata": {
  "kernelspec": {
   "display_name": "Python 3 (ipykernel)",
   "language": "python",
   "name": "python3"
  },
  "language_info": {
   "codemirror_mode": {
    "name": "ipython",
    "version": 3
   },
   "file_extension": ".py",
   "mimetype": "text/x-python",
   "name": "python",
   "nbconvert_exporter": "python",
   "pygments_lexer": "ipython3",
   "version": "3.8.12"
  }
 },
 "nbformat": 4,
 "nbformat_minor": 5
}
